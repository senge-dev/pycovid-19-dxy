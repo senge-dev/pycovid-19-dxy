{
 "cells": [
  {
   "cell_type": "markdown",
   "metadata": {
    "collapsed": false,
    "pycharm": {
     "name": "#%% md\n"
    }
   },
   "source": [
    "# pycovid-19-dxy\n",
    "\n",
    "Python 新冠肺炎疫情数据，支持获取全球各个国家、国内、国内各个省份以及各个城市的疫情数据、国内的中高风险地区、国内近一周和疫情有关的部分新闻。\n",
    "\n",
    "## 使用方法\n",
    "\n",
    "- 导入必需的依赖包：\n",
    "    - `pip install pycovid-19-dxy`"
   ]
  },
  {
   "cell_type": "code",
   "execution_count": null,
   "metadata": {
    "collapsed": true,
    "pycharm": {
     "name": "#%%\n"
    }
   },
   "outputs": [],
   "source": [
    "from pycovid.covid import PyCovid   # 必需的Python库\n",
    "covid = PyCovid()                   # 创建PyCovid实例"
   ]
  },
  {
   "cell_type": "markdown",
   "metadata": {
    "collapsed": false,
    "pycharm": {
     "name": "#%% md\n"
    }
   },
   "source": [
    "### 国内疫情数据"
   ]
  },
  {
   "cell_type": "code",
   "execution_count": null,
   "metadata": {
    "collapsed": false,
    "pycharm": {
     "name": "#%%\n"
    }
   },
   "outputs": [],
   "source": [
    "\"\"\"以下全部为默认参数\"\"\"\n",
    "data0 = covid.cn_covid(\n",
    "\tcurrent=True,\t\t\t        # 是否显示现存确诊人数，默认显示\n",
    "    confirmed=True,\t\t\t        # 是否显示累计确诊人数，默认显示\n",
    "    cured=True,\t\t\t\t        # 是否显示累计治愈人数，默认显示\n",
    "    dead=True,\t\t\t\t        # 是否显示累计死亡人数，默认显示\n",
    "    province_name=None,\t\t        # 是否只获取某个省/自治区/直辖市/特别行政区的数据，默认全部获取\n",
    "    return_to_json=False            # 是否返回json格式，默认不返回\n",
    ")\n",
    "print(data0)"
   ]
  },
  {
   "cell_type": "code",
   "execution_count": null,
   "metadata": {
    "collapsed": false,
    "pycharm": {
     "name": "#%%\n"
    }
   },
   "outputs": [],
   "source": [
    "\"\"\"如果你只想要北京市的累计确诊人数和累计治愈人数，你可以这样写\"\"\"\n",
    "data1 = covid.cn_covid(\n",
    "\tcurrent=False,\n",
    "    dead=False,\n",
    "    province_name='北京',\n",
    "    return_to_json=True\n",
    ")\n",
    "print(data1)"
   ]
  },
  {
   "cell_type": "code",
   "execution_count": null,
   "metadata": {
    "collapsed": false,
    "pycharm": {
     "name": "#%%\n"
    }
   },
   "outputs": [],
   "source": [
    "\"\"\"简单的参数设置可以这样写\"\"\"\n",
    "data2 = covid.cn_covid(return_to_json=True)\n",
    "print(data2)"
   ]
  },
  {
   "cell_type": "markdown",
   "metadata": {
    "collapsed": false,
    "pycharm": {
     "name": "#%% md\n"
    }
   },
   "source": [
    "### 获取某省份的疫情数据"
   ]
  },
  {
   "cell_type": "code",
   "execution_count": null,
   "metadata": {
    "collapsed": false,
    "pycharm": {
     "name": "#%%\n"
    }
   },
   "outputs": [],
   "source": [
    "\"\"\"以下全部为默认参数，示例为获取上海的疫情数据\"\"\"\n",
    "data3 = covid.province_covid(\n",
    "\tprovince='上海',\t\t\t        # 获取上海的疫情数据\n",
    "    include_province_name=True,\t    # 默认显示省份名称\n",
    "    current=True,\t\t\t\t    # 默认获取现存确诊数据\n",
    "    confirmed=True,\t\t\t\t    # 默认获取累计确诊数据\n",
    "    cured=True,\t\t\t\t\t    # 默认获取累计治愈数据\n",
    "    dead=True,\t\t\t\t\t    # 默认获取累计死亡数据\n",
    "    city_name=None,\t\t\t\t    # 默认获取全部数据(如果不为空，将忽略include_province_name参数)\n",
    "    return_to_json=False            # 是否返回json格式，默认不返回\n",
    ")\n",
    "print(data3)"
   ]
  },
  {
   "cell_type": "code",
   "execution_count": null,
   "metadata": {
    "collapsed": false,
    "pycharm": {
     "name": "#%%\n"
    }
   },
   "outputs": [],
   "source": [
    "\"\"\"简单的参数设置可以这样写\"\"\"\n",
    "data4 = covid.province_covid(province='上海', return_to_json=True)\t# 本次获取上海的疫情数据，如果不填，默认获取北京的疫情数据\n",
    "print(data4)"
   ]
  },
  {
   "cell_type": "code",
   "execution_count": null,
   "metadata": {
    "collapsed": false,
    "pycharm": {
     "name": "#%%\n"
    }
   },
   "outputs": [],
   "source": [
    "\"\"\"仅获取黄浦区的现存确诊疫情数据\"\"\"\n",
    "data5 = covid.province_covid(\n",
    "\tprovince='上海',\t\t\t        # 获取上海的疫情数据\n",
    "    confirmed=False,\t\t\t    # 不获取累计确诊数据\n",
    "    cured=False,\t\t\t\t    # 不获取累计治愈数据\n",
    "    dead=False,\t\t\t\t\t    # 不获取累计死亡数据\n",
    "    city_name='黄浦区',\t\t\t    # 只获取黄浦区的疫情数据\n",
    "    return_to_json=True             # 为了使数据更加直观，这里我们返回json格式的数据\n",
    ")\n",
    "print(data5)"
   ]
  },
  {
   "cell_type": "markdown",
   "metadata": {
    "collapsed": false,
    "pycharm": {
     "name": "#%% md\n"
    }
   },
   "source": [
    "### 获取全球疫情数据"
   ]
  },
  {
   "cell_type": "code",
   "execution_count": null,
   "metadata": {
    "collapsed": false,
    "pycharm": {
     "name": "#%%\n"
    }
   },
   "outputs": [],
   "source": [
    "\"\"\"获取全球疫情数据\"\"\"\n",
    "data6 = covid.world_covid(\n",
    "\tcurrent=True,                   # 默认获取现存确诊数据\n",
    "    confirmed=True,                 # 默认获取累计确诊数据\n",
    "    cured=True,                     # 默认获取累计治愈数据\n",
    "    dead=True,                      # 默认获取累计死亡数据\n",
    "    confirmed_incr=True,            # 默认获取新增确诊数据\n",
    "    cured_incr=True,                # 默认获取新增治愈数据\n",
    "    dead_incr=True,                 # 默认获取新增死亡数据\n",
    "    name=None,                      # 默认获取全球数据，如果想获取某个国家的数据，可以传入国家名称，如获取日本的新冠肺炎数据，请传入`'日本'`或`'Japan'`\n",
    "    return_to_json=False            # 是否返回json格式，默认不返回\n",
    ")\n",
    "print(data6)"
   ]
  },
  {
   "cell_type": "code",
   "execution_count": null,
   "metadata": {
    "collapsed": false,
    "pycharm": {
     "name": "#%%\n"
    }
   },
   "outputs": [],
   "source": [
    "\"\"\"简单的参数设置可以这样写\"\"\"\n",
    "data7 = covid.world_covid(return_to_json=True)\t\t    # 本次获取全球疫情数据，如果不填，默认获取现存确诊数据\n",
    "print(data7)"
   ]
  },
  {
   "cell_type": "code",
   "execution_count": null,
   "metadata": {
    "collapsed": false,
    "pycharm": {
     "name": "#%%\n"
    }
   },
   "outputs": [],
   "source": [
    "\"\"\"获取日本的累计死亡和新增死亡人数\"\"\"\n",
    "data8 = covid.world_covid(\n",
    "    current=False,\n",
    "    confirmed=False,\n",
    "    cured=False,\n",
    "    confirmed_incr=False,\n",
    "    cured_incr=False,\n",
    "    name='日本',                        # 也可以使用`'Japan'`作为参数\n",
    "    return_to_json=True                # 为了使数据更加直观，这里我们返回json格式的数据\n",
    ")\n",
    "print(data8)"
   ]
  },
  {
   "cell_type": "markdown",
   "metadata": {
    "collapsed": false,
    "pycharm": {
     "name": "#%% md\n"
    }
   },
   "source": [
    "### 获取国内中高风险地区"
   ]
  },
  {
   "cell_type": "code",
   "execution_count": null,
   "metadata": {
    "collapsed": false,
    "pycharm": {
     "name": "#%%\n"
    }
   },
   "outputs": [],
   "source": [
    "\"\"\"获取国内中高风险地区\"\"\"\n",
    "data9 = covid.danger_areas(\n",
    "    # 如果include_cities和include_counts均为False，则只显示国内的中高风险地区有哪些而不会显示风险地区数量\n",
    "    include_cities=True,            # 默认获取各个城市的中高风险地区数量\n",
    "    include_counts=True,            # 默认显示各个省份的中高风险地区数量\n",
    "    include_danger_areas=True,      # 默认显示中高风险地区的详细信息\n",
    "    return_to_json=False            # 是否返回json格式，默认不返回\n",
    ")\n",
    "print(data9)"
   ]
  },
  {
   "cell_type": "code",
   "execution_count": null,
   "metadata": {
    "collapsed": false,
    "pycharm": {
     "name": "#%%\n"
    }
   },
   "outputs": [],
   "source": [
    "\"\"\"简单的参数设置可以这样写\"\"\"\n",
    "data10 = covid.danger_areas(return_to_json=True)\n",
    "print(data10)"
   ]
  },
  {
   "cell_type": "code",
   "execution_count": null,
   "metadata": {
    "collapsed": false,
    "pycharm": {
     "name": "#%%\n"
    }
   },
   "outputs": [],
   "source": [
    "\"\"\"只获取中高风险地区有哪些\"\"\"\n",
    "data11 = covid.danger_areas(\n",
    "    include_cities=False,\n",
    "    include_counts=False,\n",
    "    return_to_json=True             # 为了让数据更加直观，这里我们返回json格式的数据\n",
    ")\n",
    "print(data11)"
   ]
  },
  {
   "cell_type": "code",
   "execution_count": null,
   "metadata": {
    "collapsed": false,
    "pycharm": {
     "name": "#%%\n"
    }
   },
   "outputs": [],
   "source": [
    "\"\"\"只获取各个城市的中高风险地区数量\"\"\"\n",
    "data12 = covid.danger_areas(\n",
    "    include_counts=False,\n",
    "    include_danger_areas=False,\n",
    "    return_to_json=True,            # 为了让数据更加直观，这里我们返回json格式的数据\n",
    ")\n",
    "print(data12)"
   ]
  },
  {
   "cell_type": "markdown",
   "metadata": {
    "collapsed": false,
    "pycharm": {
     "name": "#%% md\n"
    }
   },
   "source": [
    "### 获取和疫情相关的新闻"
   ]
  },
  {
   "cell_type": "code",
   "execution_count": null,
   "metadata": {
    "collapsed": false,
    "pycharm": {
     "name": "#%%\n"
    }
   },
   "outputs": [],
   "source": [
    "\"\"\"获取和疫情相关的新闻\"\"\"\n",
    "news0 = covid.news_timeline(\n",
    "    include_summary=True,           # 默认包含新闻摘要\n",
    "    include_url=True,               # 默认包含新闻链接\n",
    "    include_source=True,            # 默认包含新闻来源\n",
    "    include_time=True,              # 默认包含新闻发布时间\n",
    "    return_to_json=False,           # 是否返回json格式的新闻，默认不返回\n",
    ")\n",
    "print(news0)"
   ]
  },
  {
   "cell_type": "code",
   "execution_count": null,
   "metadata": {
    "collapsed": false,
    "pycharm": {
     "name": "#%%\n"
    }
   },
   "outputs": [],
   "source": [
    "\"\"\"简单的参数设置\"\"\"\n",
    "news1 = covid.news_timeline(return_to_json=True)\n",
    "print(news1)"
   ]
  },
  {
   "cell_type": "code",
   "execution_count": null,
   "metadata": {
    "collapsed": false,
    "pycharm": {
     "name": "#%%\n"
    }
   },
   "outputs": [],
   "source": [
    "\"\"\"获取和疫情相关的新闻，并且只包含新闻标题\"\"\"\n",
    "news2 = covid.news_timeline(\n",
    "    include_summary=False,\n",
    "    include_url=False,\n",
    "    include_source=False,\n",
    "    include_time=False\n",
    ")\n",
    "print(news2)"
   ]
  }
 ],
 "metadata": {
  "kernelspec": {
   "display_name": "Python 3.9.7 64-bit",
   "language": "python",
   "name": "python3"
  },
  "language_info": {
   "codemirror_mode": {
    "name": "ipython",
    "version": 3
   },
   "file_extension": ".py",
   "mimetype": "text/x-python",
   "name": "python",
   "nbconvert_exporter": "python",
   "pygments_lexer": "ipython3",
   "version": "3.9.7"
  },
  "vscode": {
   "interpreter": {
    "hash": "c347c8f9a7ef94e4c9e03b4513be7835ed18f45b99a2a817fb579f408b867b16"
   }
  }
 },
 "nbformat": 4,
 "nbformat_minor": 0
}
