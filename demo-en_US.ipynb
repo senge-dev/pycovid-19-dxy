{
 "cells": [
  {
   "cell_type": "markdown",
   "metadata": {
    "collapsed": false,
    "pycharm": {
     "name": "#%% md\n"
    }
   },
   "source": [
    "# pycovid-19-dxy\n",
    "\n",
    "Python covid-19 data, you can get the data from the world or your country.\n",
    "\n",
    "## How to use\n",
    "\n",
    "- Install the necessary package：\n",
    "    - `pip install pycovid-19-dxy`"
   ]
  },
  {
   "cell_type": "code",
   "execution_count": null,
   "metadata": {
    "collapsed": true,
    "pycharm": {
     "name": "#%%\n"
    }
   },
   "outputs": [],
   "source": [
    "from pycovid.covid_en import PyCovid   # Import the necessary modules\n",
    "covid = PyCovid()                   # Create the object"
   ]
  },
  {
   "cell_type": "markdown",
   "metadata": {
    "collapsed": false,
    "pycharm": {
     "name": "#%% md\n"
    }
   },
   "source": [
    "### Get the covid-19 data from the world."
   ]
  },
  {
   "cell_type": "code",
   "execution_count": null,
   "metadata": {
    "collapsed": false,
    "pycharm": {
     "name": "#%%\n"
    }
   },
   "outputs": [],
   "source": [
    "\"\"\"Get the covid-19 data from the world\"\"\"\n",
    "data0 = covid.world_covid(\n",
    "\tcurrent=True,                   # Current confirmed will be get default.\n",
    "    confirmed=True,                 # Confirmed count will be get default.\n",
    "    cured=True,                     # Cured count will be get default.\n",
    "    dead=True,                      # Dead count will be get default.\n",
    "    confirmed_incr=True,            # Confirmed increasement will be get default.\n",
    "    cured_incr=True,                # Cured increasement will be get default.\n",
    "    dead_incr=True,                 # Dead increasement will be get default.\n",
    "    name=None,                      # The global data will be get default, if you want to get the data from your country, please set this paramenter to your country(English name).\n",
    "    return_to_json=False            # If you want the json data, please set the paramenter to True.\n",
    ")\n",
    "print(data0)"
   ]
  },
  {
   "cell_type": "code",
   "execution_count": null,
   "metadata": {
    "collapsed": false,
    "pycharm": {
     "name": "#%%\n"
    }
   },
   "outputs": [],
   "source": [
    "\"\"\"If you don't want to add more paramenter, please set the paramenter as this.\"\"\"\n",
    "data1 = covid.world_covid()\t\t    # It will get the covid-19 data from the world.\n",
    "print(data1)"
   ]
  },
  {
   "cell_type": "code",
   "execution_count": null,
   "metadata": {
    "collapsed": false,
    "pycharm": {
     "name": "#%%\n"
    }
   },
   "outputs": [],
   "source": [
    "\"\"\"Get the dead count and dead increasement from Japan.\"\"\"\n",
    "data2 = covid.world_covid(\n",
    "    current=False,                  # Ignore current confirmed count\n",
    "    confirmed=False,                # Ignore confirmed count\n",
    "    cured=False,                    # Ignore cured count\n",
    "    confirmed_incr=False,           # Ignore confirmed increasement\n",
    "    cured_incr=False,               # Ignore cured increasement\n",
    "    name='Japan'\n",
    ")\n",
    "print(data2)"
   ]
  }
 ],
 "metadata": {
  "kernelspec": {
   "display_name": "Python 3.9.7 64-bit",
   "language": "python",
   "name": "python3"
  },
  "language_info": {
   "codemirror_mode": {
    "name": "ipython",
    "version": 3
   },
   "file_extension": ".py",
   "mimetype": "text/x-python",
   "name": "python",
   "nbconvert_exporter": "python",
   "pygments_lexer": "ipython3",
   "version": "3.9.7"
  },
  "vscode": {
   "interpreter": {
    "hash": "c347c8f9a7ef94e4c9e03b4513be7835ed18f45b99a2a817fb579f408b867b16"
   }
  }
 },
 "nbformat": 4,
 "nbformat_minor": 0
}
